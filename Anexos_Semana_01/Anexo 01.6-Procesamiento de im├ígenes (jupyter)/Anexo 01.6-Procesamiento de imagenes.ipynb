{
 "cells": [
  {
   "cell_type": "markdown",
   "metadata": {},
   "source": [
    "# Ejemplo Procesamiento de imágenes\n",
    "\n",
    "**Curso**: CC5213 - Recuperación de Información Multimedia  \n",
    "**Profesor**: Juan Manuel Barrios  \n",
    "**Fecha**: 10 de marzo de 2025\n",
    "\n",
    "En este ejemplo se muestra como abrir una imagen y aplicar un filtro usando OpenCV.\n",
    "\n",
    "Requiere:\n",
    "```\n",
    "pip install opencv-contrib-python pyqt5 matplotlib\n",
    "```"
   ]
  },
  {
   "cell_type": "markdown",
   "metadata": {},
   "source": [
    "## Definir funciones auxiliares\n",
    "\n",
    "Se usa un diálogo en QT para seleccionar la imagen a procesar."
   ]
  },
  {
   "cell_type": "code",
   "execution_count": null,
   "metadata": {},
   "outputs": [],
   "source": [
    "import sys\n",
    "import os\n",
    "import numpy\n",
    "import cv2\n",
    "from PyQt5.QtWidgets import QApplication, QFileDialog\n",
    "import matplotlib.pyplot as plt\n",
    "\n",
    "\n",
    "def mostrar_imagen(window_name, imagen):\n",
    "    # si la imagen a mostrar es muy grande reducir su tamaño\n",
    "    MAX_WIDTH = 700\n",
    "    MAX_HEIGHT = 500\n",
    "    if imagen.shape[0] > MAX_HEIGHT or imagen.shape[1] > MAX_WIDTH:\n",
    "        fh = MAX_HEIGHT / imagen.shape[0]\n",
    "        fw = MAX_WIDTH / imagen.shape[1]\n",
    "        escala = min(fh, fw)\n",
    "        imagen = cv2.resize(imagen, (0, 0), fx=escala, fy=escala)\n",
    "    # mostrar en pantalla\n",
    "    cv2.imshow(window_name, imagen)\n",
    "\n",
    "\n",
    "def ui_select_filenames():\n",
    "    # mostrar un dialogo de seleccionar un archivo\n",
    "    app = QApplication(list());\n",
    "    options = QFileDialog.Options()\n",
    "    files, _ = QFileDialog.getOpenFileNames(None, \"Imagenes\", \".\", \"Imagenes (*.jpg *.png)\", options=options)\n",
    "    return files\n",
    "\n",
    "\n",
    "def abrir_imagen(filename):\n",
    "    imagen_color = cv2.imread(filename, cv2.IMREAD_COLOR)\n",
    "    if imagen_color is None:\n",
    "        raise Exception(\"error abriendo {}\".format(filename))\n",
    "    return imagen_color\n",
    "\n",
    "\n",
    "def histograma_gris(imagen_8bits):\n",
    "    bins = range(0, 257, 1)\n",
    "    xticks = list(range(0, 256, 64))\n",
    "    xticks.append(255)\n",
    "    plt.hist(imagen_8bits.reshape(-1), bins=bins, density=True)\n",
    "    plt.xticks(xticks)\n",
    "    plt.xlabel('grises')\n",
    "    plt.ylabel('cantidad')\n",
    "    plt.title('Histograma de intensidades')\n",
    "    plt.show()\n",
    "\n",
    "\n",
    "print(\"Usando OpenCV {} con Python {}.{}.{}\".format(cv2.__version__, sys.version_info.major, sys.version_info.minor,\n",
    "                                                    sys.version_info.micro))\n"
   ]
  },
  {
   "cell_type": "markdown",
   "metadata": {},
   "source": [
    "## Ejemplo 1 - Histograma y Ecualización"
   ]
  },
  {
   "cell_type": "code",
   "execution_count": null,
   "metadata": {},
   "outputs": [],
   "source": [
    "def ejemplo(filename):\n",
    "    imagen_color = abrir_imagen(filename)\n",
    "    imagen_gris = cv2.cvtColor(imagen_color, cv2.COLOR_BGR2GRAY)\n",
    "    imagen_eq = cv2.equalizeHist(imagen_gris)\n",
    "    mostrar_imagen(filename + \" (gris)\", imagen_gris)\n",
    "    mostrar_imagen(filename + \" (eq)\", imagen_eq)\n",
    "    histograma_gris(imagen_gris)\n",
    "    histograma_gris(imagen_eq)\n",
    "\n",
    "\n",
    "filenames = ui_select_filenames()\n",
    "\n",
    "if len(filenames) > 0:\n",
    "    for filename in filenames:\n",
    "        ejemplo(filename)\n",
    "    cv2.waitKey(0)\n",
    "    cv2.destroyAllWindows()\n",
    "\n",
    "print(\"FIN\")"
   ]
  },
  {
   "cell_type": "markdown",
   "metadata": {},
   "source": [
    "## Ejemplo 2 - Binarización con OTSU"
   ]
  },
  {
   "cell_type": "code",
   "execution_count": null,
   "metadata": {},
   "outputs": [],
   "source": [
    "def ejemplo(filename):\n",
    "    imagen_color = abrir_imagen(filename)\n",
    "    imagen_gris = cv2.cvtColor(imagen_color, cv2.COLOR_BGR2GRAY)\n",
    "    threshold, imagen_bin = cv2.threshold(imagen_gris, 0, 255, cv2.THRESH_BINARY | cv2.THRESH_OTSU)\n",
    "    mostrar_imagen(filename, imagen_color)\n",
    "    mostrar_imagen(filename + \" (gris)\", imagen_gris)\n",
    "    mostrar_imagen(filename + \" (bin)\", imagen_bin)\n",
    "    print(\"{} size={} threshold={}\".format(filename, imagen_color.shape, threshold))\n",
    "    histograma_gris(imagen_gris)\n",
    "    histograma_gris(imagen_bin)\n",
    "\n",
    "\n",
    "filenames = ui_select_filenames()\n",
    "\n",
    "if len(filenames) > 0:\n",
    "    for filename in filenames:\n",
    "        ejemplo(filename)\n",
    "    cv2.waitKey(0)\n",
    "    cv2.destroyAllWindows()\n",
    "\n",
    "print(\"FIN\")"
   ]
  },
  {
   "cell_type": "markdown",
   "metadata": {},
   "source": [
    "## Ejemplo 3 - Convolución\n",
    "\n",
    "Revisar el tratamiento del borde de la función **filter2d** [[en este link]](https://docs.opencv.org/4.x/d4/d86/group__imgproc__filter.html#ga27c049795ce870216ddfb366086b5a04).\n",
    "\n",
    "Por defecto usa borde tipo `BORDER_REFLECT_101` que la documentación describe así:\n",
    "\n",
    "`gfedcb|`**`abcdefgh`**`|gfedcba`\n",
    "\n",
    "es decir, para una imagen que en una fila tiene pixeles `abcdefgh`, crea pixeles antes y después como si estuvieran en un espejo.\n",
    "\n",
    "Se pueden ver otros parámetros para el borde en: https://docs.opencv.org/4.x/d2/de8/group__core__array.html#ga209f2f4869e304c82d07739337eae7c5\n",
    "\n",
    "Notar que, en general, no es muy relevante definir qué hacer en el borde ya que afecta unos pocos pixeles. Pero sí se vuelve relevante cuando las imágenes son muy pequeñas o cuando contienen algún patrón especial.\n"
   ]
  },
  {
   "cell_type": "code",
   "execution_count": null,
   "metadata": {},
   "outputs": [],
   "source": [
    "def ejemplo(filename):\n",
    "    imagen_color = abrir_imagen(filename)\n",
    "    imagen_gris = cv2.cvtColor(imagen_color, cv2.COLOR_BGR2GRAY)\n",
    "    imagen_gaussian = cv2.GaussianBlur(imagen_gris, (9, 9), 0)\n",
    "    imagen_median = cv2.medianBlur(imagen_gris, 9)\n",
    "    kernel = numpy.array([[1, 1, 1],\n",
    "                          [1, 1, 1],\n",
    "                          [1, 1, 1]]) / 9\n",
    "    # una forma alternativa para probar kernels más grandes:\n",
    "    # kernel = numpy.ones((15, 15), numpy.float32) / (15*15)\n",
    "    imagen_conv = cv2.filter2D(imagen_gris, -1, kernel)\n",
    "    mostrar_imagen(\"gris: \" + filename, imagen_gris)\n",
    "    mostrar_imagen(\"gaussian: \" + filename, imagen_gaussian)\n",
    "    mostrar_imagen(\"median: \" + filename, imagen_median)\n",
    "    mostrar_imagen(\"convolucion: \" + filename, imagen_conv)\n",
    "\n",
    "\n",
    "filenames = ui_select_filenames()\n",
    "\n",
    "if len(filenames) > 0:\n",
    "    for filename in filenames:\n",
    "        ejemplo(filename)\n",
    "    cv2.waitKey(0)\n",
    "    cv2.destroyAllWindows()\n",
    "\n",
    "print(\"FIN\")"
   ]
  },
  {
   "cell_type": "markdown",
   "metadata": {},
   "source": [
    "Más detalles y ejemplos se pueden ver en la página de OpenCV: https://docs.opencv.org/4.x/d4/d13/tutorial_py_filtering.html "
   ]
  }
 ],
 "metadata": {
  "kernelspec": {
   "display_name": "Python 3 (ipykernel)",
   "language": "python",
   "name": "python3"
  },
  "language_info": {
   "codemirror_mode": {
    "name": "ipython",
    "version": 3
   },
   "file_extension": ".py",
   "mimetype": "text/x-python",
   "name": "python",
   "nbconvert_exporter": "python",
   "pygments_lexer": "ipython3",
   "version": "3.13.2"
  }
 },
 "nbformat": 4,
 "nbformat_minor": 4
}
